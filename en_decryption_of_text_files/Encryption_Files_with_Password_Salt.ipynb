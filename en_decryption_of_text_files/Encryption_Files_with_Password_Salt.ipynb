{
 "cells": [
  {
   "cell_type": "markdown",
   "id": "2b21e693",
   "metadata": {},
   "source": [
    "# En- and Decryption a text file"
   ]
  },
  {
   "cell_type": "code",
   "execution_count": 77,
   "id": "43ec068c",
   "metadata": {},
   "outputs": [],
   "source": [
    "from cryptography.fernet import Fernet\n",
    "\n",
    "def encrypt(filename, key): \n",
    "    \"\"\"Given a filename (str) and key (bytes), \n",
    "    it encrypts the file and write it \"\"\"\n",
    "    f = Fernet(key)\n",
    "    with open(filename, \"rb\") as file: \n",
    "        # read all file data \n",
    "        file_data = file.read()\n",
    "        encrypted_data = f.encrypt(file_data)\n",
    "        \n",
    "    with open(filename[:-4]+'_enc.key', \"wb\") as file: \n",
    "        file.write(encrypted_data)\n",
    "        file.close()\n",
    "\n",
    "def decrypt(filename, key): \n",
    "    \"\"\"Given a filename (str) and key (bytes), \n",
    "    it decrypts the file and write it \"\"\"\n",
    "    f = Fernet(key)\n",
    "    with open(filename, \"rb\") as file:\n",
    "        # read the encrypted data\n",
    "        encrypted_data = file.read() # decrypt data\n",
    "        try:\n",
    "            decrypted_data = f.decrypt(encrypted_data) # write the original file\n",
    "        except cryptography.fernet.InvalidToken:\n",
    "            print(\"Invalid token, most likely the password is incorrect\")\n",
    "            return\n",
    "    \n",
    "    with open(filename[:-8]+'_dec.key', \"wb\") as file:\n",
    "        file.write(decrypted_data)\n",
    "        file.close()"
   ]
  },
  {
   "cell_type": "code",
   "execution_count": 78,
   "id": "7b17babf",
   "metadata": {},
   "outputs": [
    {
     "name": "stdout",
     "output_type": "stream",
     "text": [
      "b'fSNA3dyKyUcphTdO9667AO'\n"
     ]
    }
   ],
   "source": [
    "file_name='keepass_masterkey.key'\n",
    "with open(file_name, \"rb\") as file:\n",
    "        # read the encrypted data\n",
    "        data = file.read()\n",
    "        print(data)\n",
    "        file.close()"
   ]
  },
  {
   "cell_type": "code",
   "execution_count": 79,
   "id": "f0c326e7",
   "metadata": {},
   "outputs": [
    {
     "data": {
      "text/plain": [
       "b'ZgDw4Mj1jX8wwX1uA43Zash6EAP6Jf9Cx-oW7eNDXBY='"
      ]
     },
     "execution_count": 79,
     "metadata": {},
     "output_type": "execute_result"
    }
   ],
   "source": [
    "key = Fernet.generate_key()\n",
    "key"
   ]
  },
  {
   "cell_type": "code",
   "execution_count": 80,
   "id": "3de3bcfb",
   "metadata": {},
   "outputs": [
    {
     "name": "stdout",
     "output_type": "stream",
     "text": [
      "b'gAAAAABjb5gxlnzeYi1AiGWvxUVFBEVr2DI9x1Xg1TiOTA9OfVmCsqBGE6D8wJL1kknlu0HpGWW4JFXOtaxbeYDvv7V5LWNcM_BjsBaJSIGWDb6Izh0IuNA='\n"
     ]
    }
   ],
   "source": [
    "encrypt(file_name, key)\n",
    "with open('keepass_masterkey_enc.key', \"rb\") as file:\n",
    "        # read the encrypted data\n",
    "        data = file.read()\n",
    "        print(data)\n",
    "        file.close()"
   ]
  },
  {
   "cell_type": "code",
   "execution_count": 82,
   "id": "47773b57",
   "metadata": {},
   "outputs": [
    {
     "name": "stdout",
     "output_type": "stream",
     "text": [
      "b'fSNA3dyKyUcphTdO9667AO'\n"
     ]
    }
   ],
   "source": [
    "decrypt('keepass_masterkey_enc.key', key)\n",
    "with open('keepass_masterkey_dec.key', \"rb\") as file:\n",
    "        # read the encrypted data\n",
    "        data = file.read()\n",
    "        print(data)\n",
    "        file.close()"
   ]
  },
  {
   "cell_type": "markdown",
   "id": "82e90bcd",
   "metadata": {},
   "source": [
    "# Text file encryption with Password and Salt"
   ]
  },
  {
   "cell_type": "code",
   "execution_count": 83,
   "id": "2369b0cd",
   "metadata": {},
   "outputs": [],
   "source": [
    "import cryptography\n",
    "from cryptography.fernet import Fernet\n",
    "from cryptography.hazmat.primitives.kdf.scrypt import Scrypt\n",
    "import secrets\n",
    "import base64\n",
    "import getpass"
   ]
  },
  {
   "cell_type": "code",
   "execution_count": 84,
   "id": "7218469c",
   "metadata": {},
   "outputs": [],
   "source": [
    "def generate_salt(size):\n",
    "    \"\"\"Generate the salt used for key derivation, \n",
    "    `size` is the length of the salt to generate\"\"\" \n",
    "    return secrets.token_bytes(size)\n",
    "\n",
    "def derive_key(salt, password):\n",
    "    \"\"\"Derive the key from the `password` using the passed `salt`\n",
    "        @salt: bytes\n",
    "        @password: text\n",
    "    \"\"\" \n",
    "    kdf = Scrypt(salt=salt, length=32, n=2**14, r=8, p=1)\n",
    "    return kdf.derive(password.encode())\n",
    "\n",
    "def save_salt(salt, password):\n",
    "    \"\"\"Save the salt\"\"\"\n",
    "    salt=derive_key(salt, password)\n",
    "    with open('salt.salt', \"wb\") as file: \n",
    "        file.write(salt)\n",
    "        file.close()\n",
    "def load_salt():\n",
    "    # load salt from salt.salt file \n",
    "    return open(\"salt.salt\", \"rb\").read()"
   ]
  },
  {
   "cell_type": "code",
   "execution_count": 85,
   "id": "b956cacc",
   "metadata": {},
   "outputs": [
    {
     "data": {
      "text/plain": [
       "True"
      ]
     },
     "execution_count": 85,
     "metadata": {},
     "output_type": "execute_result"
    }
   ],
   "source": [
    "salt_size=32\n",
    "salt=generate_salt(size=salt_size)\n",
    "password='password'\n",
    "\n",
    "save_salt(salt, password)\n",
    "derive_key(salt, password)==load_salt()"
   ]
  },
  {
   "cell_type": "code",
   "execution_count": 86,
   "id": "875f0876",
   "metadata": {},
   "outputs": [],
   "source": [
    "def generate_key(password, salt_size=16, load_existing_salt=False, save_salt=True): \n",
    "    \"\"\"\n",
    "    Generates a key from a `password` and the salt.\n",
    "    If `load_existing_salt` is True, it'll load the salt from a file in the current directory called \"salt.salt\".\n",
    "    If `save_salt` is True, then it will generate a new salt\n",
    "    and save it to \"salt.salt\"\n",
    "    \"\"\"\n",
    "    if load_existing_salt:\n",
    "        # load existing salt\n",
    "        salt = load_salt() \n",
    "    elif save_salt:\n",
    "        # generate new salt and save it\n",
    "        salt = generate_salt(salt_size)\n",
    "        with open(\"salt.salt\", \"wb\") as salt_file:\n",
    "            salt_file.write(salt)\n",
    "        # generate the key from the salt and the password \n",
    "    derived_key = derive_key(salt, password)\n",
    "    # encode it using Base 64 and return it\n",
    "    return base64.urlsafe_b64encode(derived_key)"
   ]
  },
  {
   "cell_type": "code",
   "execution_count": 87,
   "id": "fd96147e",
   "metadata": {},
   "outputs": [
    {
     "data": {
      "text/plain": [
       "b'U5Q31DzLmqgvtjRnaexB0P3leNO1-uB-qElG8L88uUI='"
      ]
     },
     "execution_count": 87,
     "metadata": {},
     "output_type": "execute_result"
    }
   ],
   "source": [
    "salt_size=32\n",
    "password='password'\n",
    "\n",
    "generate_key(password, salt_size=salt_size, load_existing_salt=False, save_salt=True)"
   ]
  },
  {
   "cell_type": "code",
   "execution_count": null,
   "id": "65c0b43e",
   "metadata": {},
   "outputs": [],
   "source": []
  }
 ],
 "metadata": {
  "kernelspec": {
   "display_name": "Python 3",
   "language": "python",
   "name": "python3"
  },
  "language_info": {
   "codemirror_mode": {
    "name": "ipython",
    "version": 3
   },
   "file_extension": ".py",
   "mimetype": "text/x-python",
   "name": "python",
   "nbconvert_exporter": "python",
   "pygments_lexer": "ipython3",
   "version": "3.9.4"
  }
 },
 "nbformat": 4,
 "nbformat_minor": 5
}
